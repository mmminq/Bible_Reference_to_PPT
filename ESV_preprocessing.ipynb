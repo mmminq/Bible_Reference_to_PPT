{
 "cells": [
  {
   "cell_type": "code",
   "execution_count": 6,
   "id": "8e13f392",
   "metadata": {},
   "outputs": [
    {
     "name": "stdout",
     "output_type": "stream",
     "text": [
      "✅ 구절 정리가 완료되었습니다.\n"
     ]
    }
   ],
   "source": [
    "import re\n",
    "\n",
    "def clean_esv_text(input_path, output_path):\n",
    "    with open(input_path, 'r', encoding='utf-8') as f:\n",
    "        lines = f.readlines()\n",
    "\n",
    "    combined_text = ''.join(lines).replace('\\n', ' ')  # 모든 줄바꿈 제거 후 공백으로 대체\n",
    "\n",
    "    # 절 앞에만 줄바꿈 삽입 (장절 포맷: Gen 1:1)\n",
    "    verses = re.sub(r'(?<!^)(?=\\b[A-Z][a-z]{2,} \\d+:\\d+)', r'\\n', combined_text).strip()\n",
    "\n",
    "    with open(output_path, 'w', encoding='utf-8') as f:\n",
    "        f.write(verses)\n",
    "\n",
    "    print(\"✅ 구절 정리가 완료되었습니다.\")\n",
    "\n",
    "# 사용 예시\n",
    "clean_esv_text('ESV-text/ESV_text.txt', 'ESV-text/ESV_cleaned.txt')\n"
   ]
  },
  {
   "cell_type": "code",
   "execution_count": null,
   "id": "5c8a8574",
   "metadata": {},
   "outputs": [],
   "source": []
  }
 ],
 "metadata": {
  "kernelspec": {
   "display_name": "base",
   "language": "python",
   "name": "python3"
  },
  "language_info": {
   "codemirror_mode": {
    "name": "ipython",
    "version": 3
   },
   "file_extension": ".py",
   "mimetype": "text/x-python",
   "name": "python",
   "nbconvert_exporter": "python",
   "pygments_lexer": "ipython3",
   "version": "3.11.7"
  }
 },
 "nbformat": 4,
 "nbformat_minor": 5
}
